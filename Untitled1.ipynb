{
  "nbformat": 4,
  "nbformat_minor": 0,
  "metadata": {
    "colab": {
      "name": "Untitled1.ipynb",
      "provenance": [],
      "authorship_tag": "ABX9TyOTb055YBcGkwQ4RZthA7v8",
      "include_colab_link": true
    },
    "kernelspec": {
      "name": "python3",
      "display_name": "Python 3"
    },
    "language_info": {
      "name": "python"
    }
  },
  "cells": [
    {
      "cell_type": "markdown",
      "metadata": {
        "id": "view-in-github",
        "colab_type": "text"
      },
      "source": [
        "<a href=\"https://colab.research.google.com/github/yusufseyitoglu/gradient-boosted-tree/blob/main/Untitled1.ipynb\" target=\"_parent\"><img src=\"https://colab.research.google.com/assets/colab-badge.svg\" alt=\"Open In Colab\"/></a>"
      ]
    },
    {
      "cell_type": "code",
      "execution_count": null,
      "metadata": {
        "colab": {
          "base_uri": "https://localhost:8080/"
        },
        "id": "OkxMhmqyQ4oS",
        "outputId": "e8dc6321-7c3f-427b-92c1-9bcc0df82086"
      },
      "outputs": [
        {
          "output_type": "stream",
          "name": "stdout",
          "text": [
            "(355, 1836)\n",
            "(355,)\n",
            "[17:33:23] WARNING: /workspace/src/objective/regression_obj.cu:152: reg:linear is now deprecated in favor of reg:squarederror.\n",
            "Mean Absolute Error For XGBoost: 0.10847511\n",
            "Mean Squared Error For XGBoost: 0.120674215\n",
            "Root Mean Squared Error For XGBoost: 0.34738195\n",
            "Score For XGBoost: 0.9608928066704353\n"
          ]
        }
      ],
      "source": [
        "import pandas as pd\n",
        "import numpy as np\n",
        "from sklearn.model_selection import train_test_split\n",
        "from sklearn.preprocessing import StandardScaler\n",
        "from sklearn.ensemble import RandomForestRegressor\n",
        "from sklearn import metrics\n",
        "import xgboost as xgb\n",
        "\n",
        "data=pd.read_csv('/content/data.csv')\n",
        "label=pd.read_csv('/content/labels.csv')\n",
        "\n",
        "input=data.iloc[0:,1:]\n",
        "target=label.iloc[0:,1]\n",
        "\n",
        "#Colon cancer->0, lung cancer->1,breast cancer->2,prosrtate cancer->3\n",
        "\n",
        "\n",
        "for i in range(0,target.shape[0]):\n",
        "    if target[i]== \"colon cancer\":\n",
        "        target[i]=0\n",
        "    elif target[i]== \"lung cancer\":\n",
        "        target[i]=1\n",
        "    elif target[i] == \"breast cancer\":\n",
        "        target[i] = 2\n",
        "    elif target[i]== \"prosrtate cancer\":\n",
        "        target[i]=3\n",
        "\n",
        "print(input.shape)\n",
        "print(target.shape)\n",
        "\n",
        "X=np.array(input).astype('float64')\n",
        "y=np.array(target).astype('uint8')\n",
        "\n",
        "X_train, X_test, y_train, y_test = train_test_split(X, y, test_size=0.2, random_state=0)\n",
        "\n",
        "# Feature Scaling\n",
        "sc = StandardScaler()\n",
        "X_train = sc.fit_transform(X_train)\n",
        "X_test = sc.transform(X_test)\n",
        "\n",
        "\n",
        "XGBregressor = xgb.XGBRegressor(\n",
        "    n_estimators=100,\n",
        "    reg_lambda=1,\n",
        "    gamma=0,\n",
        "    max_depth=6\n",
        ")\n",
        "\n",
        "XGBregressor.fit(X_train,y_train)\n",
        "xgb_pred=XGBregressor.predict(X_test)\n",
        "\n",
        "print('Mean Absolute Error For XGBoost:', metrics.mean_absolute_error(y_test, xgb_pred))\n",
        "print('Mean Squared Error For XGBoost:', metrics.mean_squared_error(y_test, xgb_pred))\n",
        "print('Root Mean Squared Error For XGBoost:', np.sqrt(metrics.mean_squared_error(y_test, xgb_pred)))\n",
        "print('Score For XGBoost:',regressor.score(X_test,y_test))"
      ]
    }
  ]
}